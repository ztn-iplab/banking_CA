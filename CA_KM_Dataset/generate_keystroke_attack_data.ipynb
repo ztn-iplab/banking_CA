{
 "cells": [
  {
   "cell_type": "code",
   "execution_count": 6,
   "id": "67419a6b-4a57-4f20-9151-22b917e4c8f3",
   "metadata": {},
   "outputs": [
    {
     "name": "stdout",
     "output_type": "stream",
     "text": [
      "Index(['id', 'key', 'action', 'rhythm', 'dwell_time', 'flight_time',\n",
      "       'up_down_time', 'session_duration', 'user_id', 'timestamp'],\n",
      "      dtype='object')\n"
     ]
    }
   ],
   "source": [
    "print(imputed_data.columns)\n"
   ]
  },
  {
   "cell_type": "code",
   "execution_count": 7,
   "id": "40dc7868-119f-4881-b743-8bf412962d50",
   "metadata": {},
   "outputs": [
    {
     "name": "stdout",
     "output_type": "stream",
     "text": [
      "Generated Attack Data (First 5 rows):\n",
      "       id        key   action  rhythm  dwell_time  flight_time  up_down_time  \\\n",
      "0  3067.0          1  release     0.0    0.105190     2.532167      1.788202   \n",
      "1  3068.0  Key.enter  release     0.0    0.093136     0.000000      0.000000   \n",
      "2  3069.0          b  release     0.0    0.048118     0.085511      0.108629   \n",
      "3  3070.0          z  release     0.0    0.105374     0.022252      0.019156   \n",
      "4  3071.0          t  release     0.0    0.084559     0.141724      0.154120   \n",
      "\n",
      "   session_duration  user_id                      timestamp  label  \n",
      "0         13.830218      1.0  2025-01-15 10:08:05.783485+00      1  \n",
      "1         13.830218      1.0  2025-01-15 10:08:05.793162+00      1  \n",
      "2         13.830218      1.0  2025-01-15 10:25:53.170786+00      1  \n",
      "3         13.830218      1.0  2025-01-15 10:25:53.182156+00      1  \n",
      "4         13.830218      1.0   2025-01-15 10:25:53.18817+00      1  \n"
     ]
    }
   ],
   "source": [
    "import pandas as pd\n",
    "import numpy as np\n",
    "\n",
    "# 1. Load the imputed dataset (make sure this file is already saved after imputation)\n",
    "imputed_data = pd.read_csv('Dataset_TZ_KM/imputed_keystroke_data.csv')\n",
    "\n",
    "# 2. Assume the entire data is genuine and label it as 0\n",
    "imputed_data['label'] = 0  # Assign label 0 for genuine data\n",
    "\n",
    "# 3. Generate keystroke attack data\n",
    "def generate_keystroke_attack_data(genuine_data):\n",
    "    # Create a copy of the genuine data to simulate attack data\n",
    "    attack_data = genuine_data.copy()\n",
    "\n",
    "    # Introduce some random noise or modification to simulate attack behavior\n",
    "    # For example, we can randomly swap the 'dwell_time' or 'flight_time' values\n",
    "    attack_data['dwell_time'] = attack_data['dwell_time'] * np.random.uniform(0.5, 1.5, size=len(attack_data))  # Random change\n",
    "    attack_data['flight_time'] = attack_data['flight_time'] * np.random.uniform(0.5, 1.5, size=len(attack_data))  # Random change\n",
    "\n",
    "    # Label the attack data as '1' (attack)\n",
    "    attack_data['label'] = 1\n",
    "\n",
    "    return attack_data\n",
    "\n",
    "# Generate attack data\n",
    "attack_data = generate_keystroke_attack_data(imputed_data)\n",
    "\n",
    "# 4. Display the first few rows of the generated attack data\n",
    "print(\"Generated Attack Data (First 5 rows):\")\n",
    "print(attack_data.head())\n",
    "\n",
    "# Save the generated attack data\n",
    "attack_data.to_csv('keystroke_attack_data.csv', index=False)\n"
   ]
  },
  {
   "cell_type": "code",
   "execution_count": 8,
   "id": "209efb1b-4841-4bb7-b456-c299393e3ea4",
   "metadata": {},
   "outputs": [
    {
     "name": "stdout",
     "output_type": "stream",
     "text": [
      "Combined Data (First 5 rows):\n",
      "        id        key   action  rhythm  dwell_time  flight_time  up_down_time  \\\n",
      "0  13533.0          6    press   0.088    0.088000     0.000000         0.000   \n",
      "1  17984.0  Backspace    press   0.000    0.000000     3.632000         0.037   \n",
      "2  22451.0          0  release   0.085    0.085000     0.000000         0.000   \n",
      "3  22723.0          7    press   0.263    0.162087     0.249440         0.388   \n",
      "4   6420.0          3    press   0.084    0.111101     0.020516         0.006   \n",
      "\n",
      "   session_duration  user_id                   timestamp  label  \n",
      "0             9.192     57.0  2025-05-14 09:55:25.411+00      0  \n",
      "1            14.293     69.0  2025-05-14 14:38:49.919+00      0  \n",
      "2             4.246     83.0  2025-05-17 13:43:02.928+00      0  \n",
      "3            13.432     83.0   2025-05-17 14:52:12.34+00      1  \n",
      "4             3.081     19.0  2025-04-30 08:23:53.339+00      1  \n"
     ]
    }
   ],
   "source": [
    "# Combine the genuine data with the attack data\n",
    "combined_data = pd.concat([imputed_data, attack_data])\n",
    "\n",
    "# Shuffle the combined data to mix genuine and attack data\n",
    "combined_data = combined_data.sample(frac=1, random_state=42).reset_index(drop=True)\n",
    "\n",
    "# Save the combined data\n",
    "combined_data.to_csv('combined_keystroke_data.csv', index=False)\n",
    "\n",
    "# Display the first few rows of the combined dataset\n",
    "print(\"Combined Data (First 5 rows):\")\n",
    "print(combined_data.head())\n"
   ]
  },
  {
   "cell_type": "code",
   "execution_count": null,
   "id": "53a5178c-6283-4d5e-a6c9-9cf0234d4add",
   "metadata": {},
   "outputs": [],
   "source": []
  }
 ],
 "metadata": {
  "kernelspec": {
   "display_name": "Python 3 (ipykernel)",
   "language": "python",
   "name": "python3"
  },
  "language_info": {
   "codemirror_mode": {
    "name": "ipython",
    "version": 3
   },
   "file_extension": ".py",
   "mimetype": "text/x-python",
   "name": "python",
   "nbconvert_exporter": "python",
   "pygments_lexer": "ipython3",
   "version": "3.10.12"
  }
 },
 "nbformat": 4,
 "nbformat_minor": 5
}
