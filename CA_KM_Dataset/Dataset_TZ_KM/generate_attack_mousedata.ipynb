{
 "cells": [
  {
   "cell_type": "code",
   "execution_count": 14,
   "id": "e59c5ca3-733c-4938-b41a-ed3d26370cca",
   "metadata": {},
   "outputs": [
    {
     "name": "stdout",
     "output_type": "stream",
     "text": [
      "Data Types:\n",
      " id             float64\n",
      "action          object\n",
      "coordinates     object\n",
      "button          object\n",
      "delta           object\n",
      "distance       float64\n",
      "speed          float64\n",
      "user_id        float64\n",
      "timestamp       object\n",
      "dtype: object\n",
      "\n",
      "Categorical Columns: Index(['action', 'coordinates', 'button', 'delta', 'timestamp'], dtype='object')\n",
      "\n",
      "Unique values in action:\n",
      " ['pressed' 'released' 'move' 'click']\n",
      "\n",
      "Unique values in coordinates:\n",
      " ['(144, 403)' '(27, 541)' '(32, 277)' ... '391,163' '389,164' '389,165']\n",
      "\n",
      "Unique values in button:\n",
      " ['Button.left' 'Button.right' 'left' 'middle' 'right']\n",
      "\n",
      "Unique values in delta:\n",
      " ['0,-1' '0,0' '180,-34' ... '15,77' '-19,-186' '-128,-2']\n",
      "\n",
      "Unique values in timestamp:\n",
      " ['2025-02-26 06:56:05.412578+00' '2025-02-26 06:56:05.418595+00'\n",
      " '2025-02-26 06:56:05.424294+00' ... '2025-05-18 08:35:44.301+00'\n",
      " '2025-05-18 08:35:44.535+00' '2025-05-18 08:35:48.959+00']\n"
     ]
    }
   ],
   "source": [
    "import pandas as pd\n",
    "\n",
    "# Load the dataset\n",
    "mouse_data = pd.read_csv(\"mouse_modified_trimmed_clean_imputed.csv\")\n",
    "\n",
    "# Check data types and look for mixed types in columns\n",
    "print(\"Data Types:\\n\", mouse_data.dtypes)\n",
    "\n",
    "# Inspecting columns that have 'object' data types (which could include strings)\n",
    "categorical_columns = mouse_data.select_dtypes(include=['object']).columns\n",
    "print(\"\\nCategorical Columns:\", categorical_columns)\n",
    "\n",
    "# Check for unique values in the categorical columns\n",
    "for col in categorical_columns:\n",
    "    print(f\"\\nUnique values in {col}:\\n\", mouse_data[col].unique())\n",
    "\n",
    "# Check if any column has mixed types (int and str)\n",
    "for col in categorical_columns:\n",
    "    if mouse_data[col].apply(type).nunique() > 1:\n",
    "        print(f\"\\nColumn {col} has mixed types!\")\n"
   ]
  },
  {
   "cell_type": "code",
   "execution_count": 15,
   "id": "ec62cd1b-4c12-4b95-8a9d-e06189fe91eb",
   "metadata": {},
   "outputs": [
    {
     "name": "stdout",
     "output_type": "stream",
     "text": [
      "id           float64\n",
      "action         int64\n",
      "button         int64\n",
      "distance     float64\n",
      "speed        float64\n",
      "user_id      float64\n",
      "timestamp      int64\n",
      "coord_x      float64\n",
      "coord_y      float64\n",
      "delta_x      float64\n",
      "delta_y      float64\n",
      "dtype: object\n",
      "        id  action  button  distance  speed    user_id  timestamp  coord_x  \\\n",
      "0  63962.0       2       0       0.0    0.0  52.270322          0    144.0   \n",
      "1  63963.0       3       0       0.0    0.0  52.270322          1    144.0   \n",
      "2  63964.0       2       0       0.0    0.0  52.270322          2     27.0   \n",
      "3  63965.0       3       0       0.0    0.0  52.270322          3     27.0   \n",
      "4  63966.0       2       0       0.0    0.0  52.270322          4     32.0   \n",
      "\n",
      "   coord_y  delta_x  delta_y  \n",
      "0    403.0      0.0     -1.0  \n",
      "1    403.0      0.0     -1.0  \n",
      "2    541.0      0.0     -1.0  \n",
      "3    541.0      0.0     -1.0  \n",
      "4    277.0      0.0     -1.0  \n"
     ]
    }
   ],
   "source": [
    "import pandas as pd\n",
    "from sklearn.preprocessing import LabelEncoder\n",
    "import numpy as np\n",
    "\n",
    "# Load the benign (genuine user) dataset\n",
    "mouse_data = pd.read_csv(\"mouse_modified_trimmed_clean_imputed.csv\")\n",
    "\n",
    "# 1. Convert 'coordinates' and 'delta' to two separate columns for x and y\n",
    "mouse_data[['coord_x', 'coord_y']] = mouse_data['coordinates'].str.extract(r'\\((\\d+),\\s*(\\d+)\\)').astype(float)\n",
    "mouse_data[['delta_x', 'delta_y']] = mouse_data['delta'].str.extract(r'(\\-?\\d+),\\s*(\\-?\\d+)').astype(float)\n",
    "\n",
    "# Drop the original 'coordinates' and 'delta' columns as we now have x and y\n",
    "mouse_data = mouse_data.drop(columns=['coordinates', 'delta'])\n",
    "\n",
    "# 2. Encode categorical columns ('action', 'button', 'timestamp')\n",
    "label_encoder = LabelEncoder()\n",
    "\n",
    "# Encoding 'action', 'button', and 'timestamp'\n",
    "mouse_data['action'] = label_encoder.fit_transform(mouse_data['action'])\n",
    "mouse_data['button'] = label_encoder.fit_transform(mouse_data['button'])\n",
    "mouse_data['timestamp'] = label_encoder.fit_transform(mouse_data['timestamp'])\n",
    "\n",
    "# Check data types and the first few rows\n",
    "print(mouse_data.dtypes)\n",
    "print(mouse_data.head())\n"
   ]
  },
  {
   "cell_type": "code",
   "execution_count": 19,
   "id": "f3c5f8be-95b3-4ade-bb5c-b55082701c15",
   "metadata": {},
   "outputs": [
    {
     "name": "stdout",
     "output_type": "stream",
     "text": [
      "Columns in the dataset:\n",
      "Index(['id', 'action', 'coordinates', 'button', 'delta', 'distance', 'speed',\n",
      "       'user_id', 'timestamp'],\n",
      "      dtype='object')\n"
     ]
    }
   ],
   "source": [
    "import pandas as pd\n",
    "\n",
    "# Load the dataset\n",
    "mouse_data = pd.read_csv(\"mouse_modified_trimmed_clean_imputed.csv\")\n",
    "\n",
    "# Print the column names\n",
    "print(\"Columns in the dataset:\")\n",
    "print(mouse_data.columns)\n"
   ]
  },
  {
   "cell_type": "code",
   "execution_count": 20,
   "id": "4f267d2e-47af-4e43-ab3e-78315041396c",
   "metadata": {},
   "outputs": [
    {
     "name": "stdout",
     "output_type": "stream",
     "text": [
      "\n",
      "Generating 5% Attack Data\n",
      "Attack data saved to: synthetic_attack_data_5.csv\n",
      "\n",
      "Generating 10% Attack Data\n",
      "Attack data saved to: synthetic_attack_data_10.csv\n",
      "\n",
      "Generating 30% Attack Data\n",
      "Attack data saved to: synthetic_attack_data_30.csv\n"
     ]
    }
   ],
   "source": [
    "import pandas as pd\n",
    "import numpy as np\n",
    "\n",
    "# Load the benign (genuine user) dataset\n",
    "mouse_data = pd.read_csv(\"mouse_modified_trimmed_clean_imputed.csv\")\n",
    "\n",
    "# Define a function to generate attack data with a given ratio\n",
    "def generate_attack_data(mouse_data, attack_ratio):\n",
    "    num_attack_samples = int(len(mouse_data) * attack_ratio)  # Number of attack samples to generate\n",
    "    \n",
    "    # Copy the benign dataset to create attack data\n",
    "    attack_data = mouse_data.copy()\n",
    "    \n",
    "    # Perturb numeric features to simulate attack\n",
    "    np.random.seed(42)  # For reproducibility\n",
    "    \n",
    "    # Generate random noise for the attack data (high speed, distance, erratic delta)\n",
    "    speed_noise = np.random.normal(loc=50, scale=15, size=num_attack_samples)  # Simulating high speed\n",
    "    distance_noise = np.random.normal(loc=30, scale=10, size=num_attack_samples)  # Simulating high distance\n",
    "    delta_noise = np.random.normal(loc=5, scale=2, size=num_attack_samples)  # Simulating erratic movement\n",
    "    \n",
    "    # Apply the noise to the relevant columns\n",
    "    attack_data.loc[:num_attack_samples - 1, 'speed'] += speed_noise\n",
    "    attack_data.loc[:num_attack_samples - 1, 'distance'] += distance_noise\n",
    "    attack_data.loc[:num_attack_samples - 1, 'delta'] = delta_noise  # Apply noise to the delta column\n",
    "    \n",
    "    # Simulate an attack by frequent button presses (set higher frequencies of clicks)\n",
    "    attack_data.loc[:num_attack_samples - 1, 'button'] = np.random.choice([0, 1], size=num_attack_samples, p=[0.1, 0.9])  # Simulate frequent button presses\n",
    "    \n",
    "    # Return the attack data (only the attack portion)\n",
    "    return attack_data.head(num_attack_samples)  # Ensure to return only the attack samples\n",
    "\n",
    "# Attack ratios for generating 5%, 10%, and 30% attack data\n",
    "attack_ratios = [0.05, 0.10, 0.30]\n",
    "\n",
    "# Generate attack data and save to CSV files\n",
    "for attack_ratio in attack_ratios:\n",
    "    print(f\"\\nGenerating {int(attack_ratio * 100)}% Attack Data\")\n",
    "    \n",
    "    # Generate attack data for the given ratio\n",
    "    attack_data = generate_attack_data(mouse_data, attack_ratio)\n",
    "    \n",
    "    # Save the generated attack data to a CSV file\n",
    "    attack_data_filename = f\"synthetic_attack_data_{int(attack_ratio * 100)}.csv\"\n",
    "    attack_data.to_csv(attack_data_filename, index=False)\n",
    "    print(f\"Attack data saved to: {attack_data_filename}\")\n"
   ]
  },
  {
   "cell_type": "code",
   "execution_count": 21,
   "id": "f9ee33a0-86f9-42b4-b220-f2c36cefeafd",
   "metadata": {},
   "outputs": [
    {
     "name": "stdout",
     "output_type": "stream",
     "text": [
      "5% Attack Data Combined and Saved to: combined_data_5.csv\n"
     ]
    }
   ],
   "source": [
    "import pandas as pd\n",
    "\n",
    "# Load the benign (genuine user) dataset\n",
    "mouse_data = pd.read_csv(\"mouse_modified_trimmed_clean_imputed.csv\")\n",
    "\n",
    "# Load the 5% attack data\n",
    "attack_data_5 = pd.read_csv(\"synthetic_attack_data_5.csv\")\n",
    "\n",
    "# Add a 'label' column to the attack data (1 for attack)\n",
    "attack_data_5['label'] = 1  # Attack data is labeled as 1\n",
    "\n",
    "# Add a 'label' column to the benign data (0 for benign)\n",
    "mouse_data['label'] = 0  # Benign data is labeled as 0\n",
    "\n",
    "# Combine the benign and attack datasets\n",
    "combined_data_5 = pd.concat([mouse_data, attack_data_5], ignore_index=True)\n",
    "\n",
    "# Shuffle the combined data to randomize the order of samples\n",
    "combined_data_5 = combined_data_5.sample(frac=1).reset_index(drop=True)\n",
    "\n",
    "# Save the combined data to a new CSV file\n",
    "combined_data_5.to_csv(\"combined_data_5.csv\", index=False)\n",
    "\n",
    "print(\"5% Attack Data Combined and Saved to: combined_data_5.csv\")\n"
   ]
  },
  {
   "cell_type": "code",
   "execution_count": 22,
   "id": "d8ed0cd6-1ea8-4b08-9458-ace8a2174b86",
   "metadata": {},
   "outputs": [
    {
     "name": "stdout",
     "output_type": "stream",
     "text": [
      "10% Attack Data Combined and Saved to: combined_data_10.csv\n"
     ]
    }
   ],
   "source": [
    "# Load the 10% attack data\n",
    "attack_data_10 = pd.read_csv(\"synthetic_attack_data_10.csv\")\n",
    "\n",
    "# Add a 'label' column to the 10% attack data (1 for attack)\n",
    "attack_data_10['label'] = 1  # Attack data is labeled as 1\n",
    "\n",
    "# Combine the benign and attack datasets\n",
    "combined_data_10 = pd.concat([mouse_data, attack_data_10], ignore_index=True)\n",
    "\n",
    "# Shuffle the combined data to randomize the order of samples\n",
    "combined_data_10 = combined_data_10.sample(frac=1).reset_index(drop=True)\n",
    "\n",
    "# Save the combined data to a new CSV file\n",
    "combined_data_10.to_csv(\"combined_data_10.csv\", index=False)\n",
    "\n",
    "print(\"10% Attack Data Combined and Saved to: combined_data_10.csv\")\n"
   ]
  },
  {
   "cell_type": "code",
   "execution_count": 23,
   "id": "bb4f559e-7dfc-4880-861e-09d134ffeef4",
   "metadata": {},
   "outputs": [
    {
     "name": "stdout",
     "output_type": "stream",
     "text": [
      "30% Attack Data Combined and Saved to: combined_data_30.csv\n"
     ]
    }
   ],
   "source": [
    "# Load the 30% attack data\n",
    "attack_data_30 = pd.read_csv(\"synthetic_attack_data_30.csv\")\n",
    "\n",
    "# Add a 'label' column to the 30% attack data (1 for attack)\n",
    "attack_data_30['label'] = 1  # Attack data is labeled as 1\n",
    "\n",
    "# Combine the benign and attack datasets\n",
    "combined_data_30 = pd.concat([mouse_data, attack_data_30], ignore_index=True)\n",
    "\n",
    "# Shuffle the combined data to randomize the order of samples\n",
    "combined_data_30 = combined_data_30.sample(frac=1).reset_index(drop=True)\n",
    "\n",
    "# Save the combined data to a new CSV file\n",
    "combined_data_30.to_csv(\"combined_data_30.csv\", index=False)\n",
    "\n",
    "print(\"30% Attack Data Combined and Saved to: combined_data_30.csv\")\n"
   ]
  },
  {
   "cell_type": "code",
   "execution_count": null,
   "id": "afcf5255-dc6e-44b6-b731-9cd2079fe0d3",
   "metadata": {},
   "outputs": [],
   "source": []
  }
 ],
 "metadata": {
  "kernelspec": {
   "display_name": "Python 3 (ipykernel)",
   "language": "python",
   "name": "python3"
  },
  "language_info": {
   "codemirror_mode": {
    "name": "ipython",
    "version": 3
   },
   "file_extension": ".py",
   "mimetype": "text/x-python",
   "name": "python",
   "nbconvert_exporter": "python",
   "pygments_lexer": "ipython3",
   "version": "3.10.12"
  }
 },
 "nbformat": 4,
 "nbformat_minor": 5
}
