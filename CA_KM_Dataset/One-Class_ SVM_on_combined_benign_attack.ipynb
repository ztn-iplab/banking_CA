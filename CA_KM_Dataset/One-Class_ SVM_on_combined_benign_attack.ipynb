{
 "cells": [
  {
   "cell_type": "code",
   "execution_count": 3,
   "id": "fbff662f-1823-4e05-8d3f-0375bfebbcbd",
   "metadata": {},
   "outputs": [
    {
     "name": "stdout",
     "output_type": "stream",
     "text": [
      "/work/festusedward-n\n"
     ]
    }
   ],
   "source": [
    "import os\n",
    "print(os.getcwd())\n"
   ]
  },
  {
   "cell_type": "code",
   "execution_count": 4,
   "id": "f4de5682-0701-46e1-b9b8-5d25db266d1e",
   "metadata": {},
   "outputs": [
    {
     "name": "stdout",
     "output_type": "stream",
     "text": [
      "['.vscode-server', '.local', '.bash_logout', 'Dataset_TZ_KM', '.profile', 'One-Class_ SVM_on_combined_benign_attack.ipynb', '.jupyter', '.dotnet', '.bashrc', '.ipython', '.wget-hsts', '.ipynb_checkpoints', '.cache', '.config']\n"
     ]
    }
   ],
   "source": [
    "import os\n",
    "print(os.listdir())  # This will print all files in the current directory.\n"
   ]
  },
  {
   "cell_type": "code",
   "execution_count": 5,
   "id": "56fb85c0-167a-4d5b-8662-7d376be89d46",
   "metadata": {},
   "outputs": [
    {
     "name": "stdout",
     "output_type": "stream",
     "text": [
      "['combined_with_simulated_attacks.csv', 'mouse_modified_trimmed_clean.csv', 'datapreparation.ipynb', 'simulated_attack_dataset.csv', 'combined_data_10.csv', 'logger_keystrokelog.csv', 'logger_mouseactionlog_modified.csv', 'synthetic_attack_data_5.csv', 'synthetic_attack_data_30.csv', 'mouse_modified_trimmed.csv', 'combined_user_features1.csv', 'mouse_modified.csv', 'mouse_modified_trimmed_clean_imputed.csv', 'logger_keystrokelog_modified.csv', 'synthetic_attack_data_10.csv', '.ipynb_checkpoints', 'combined_data_5.csv', 'logger_mouseactionlog.csv', 'combined_data_30.csv', 'generate_attack_mousedata.ipynb']\n"
     ]
    }
   ],
   "source": [
    "import os\n",
    "print(os.listdir('/work/festusedward-n/Dataset_TZ_KM'))\n"
   ]
  },
  {
   "cell_type": "code",
   "execution_count": 7,
   "id": "3b6d6cd3-069d-404b-af41-3a26b11351c9",
   "metadata": {},
   "outputs": [
    {
     "name": "stdout",
     "output_type": "stream",
     "text": [
      "Classification Report:\n",
      "              precision    recall  f1-score   support\n",
      "\n",
      "           0       0.67      0.10      0.17    252397\n",
      "           1       0.00      0.00      0.00     12619\n",
      "\n",
      "    accuracy                           0.10    265016\n",
      "   macro avg       0.33      0.05      0.09    265016\n",
      "weighted avg       0.63      0.10      0.17    265016\n",
      "\n",
      "Confusion Matrix:\n",
      "[[ 25238 227159]\n",
      " [ 12619      0]]\n"
     ]
    }
   ],
   "source": [
    "import pandas as pd\n",
    "import numpy as np\n",
    "from sklearn.preprocessing import StandardScaler, LabelEncoder\n",
    "from sklearn.svm import OneClassSVM\n",
    "from sklearn.metrics import classification_report, confusion_matrix\n",
    "\n",
    "# Load the combined dataset (5% attack data example)\n",
    "combined_data = pd.read_csv('/work/festusedward-n/Dataset_TZ_KM/combined_data_5.csv')\n",
    "\n",
    "# Separate features and target (label)\n",
    "X = combined_data.drop(columns=['label', 'id', 'timestamp'], errors='ignore')  # Drop 'label', 'id', and 'timestamp'\n",
    "y = combined_data['label']  # The label is either 0 (Benign) or 1 (Attack)\n",
    "\n",
    "# Encode categorical columns using LabelEncoder\n",
    "label_encoder = LabelEncoder()\n",
    "categorical_columns = X.select_dtypes(include=['object']).columns\n",
    "\n",
    "# Encode each categorical column\n",
    "for col in categorical_columns:\n",
    "    X[col] = label_encoder.fit_transform(X[col])\n",
    "\n",
    "# Feature scaling (important for SVM)\n",
    "scaler = StandardScaler()\n",
    "X_scaled = scaler.fit_transform(X)\n",
    "\n",
    "# Initialize the One-Class SVM model\n",
    "model = OneClassSVM(nu=0.1, kernel=\"rbf\", gamma=\"auto\")  # nu is the fraction of outliers\n",
    "\n",
    "# Train the model on only benign data\n",
    "benign_data = X_scaled[y == 0]  # Only benign data\n",
    "model.fit(benign_data)\n",
    "\n",
    "# Predict anomalies in the combined dataset (benign + attack)\n",
    "y_pred = model.predict(X_scaled)\n",
    "\n",
    "# Convert predictions: -1 for anomaly (attack), 1 for normal (benign)\n",
    "y_pred = [1 if label == 1 else 0 for label in y_pred]\n",
    "\n",
    "# Evaluate the performance of the model\n",
    "print(\"Classification Report:\")\n",
    "print(classification_report(y, y_pred))\n",
    "\n",
    "print(\"Confusion Matrix:\")\n",
    "print(confusion_matrix(y, y_pred))\n"
   ]
  },
  {
   "cell_type": "code",
   "execution_count": 8,
   "id": "e5bc422c-3347-44d9-976c-d40d0130c9ca",
   "metadata": {},
   "outputs": [
    {
     "name": "stdout",
     "output_type": "stream",
     "text": [
      "Classification Report:\n",
      "              precision    recall  f1-score   support\n",
      "\n",
      "           0       0.54      0.05      0.09    252397\n",
      "           1       0.01      0.16      0.02     12619\n",
      "\n",
      "    accuracy                           0.06    265016\n",
      "   macro avg       0.28      0.10      0.05    265016\n",
      "weighted avg       0.52      0.06      0.09    265016\n",
      "\n",
      "Confusion Matrix:\n",
      "[[ 12620 239777]\n",
      " [ 10629   1990]]\n"
     ]
    }
   ],
   "source": [
    "from sklearn.ensemble import IsolationForest\n",
    "\n",
    "# Initialize the Isolation Forest model\n",
    "model = IsolationForest(contamination=0.05, random_state=42)  # contamination is the expected proportion of outliers\n",
    "\n",
    "# Train the model on only benign data\n",
    "benign_data = X_scaled[y == 0]  # Only benign data\n",
    "model.fit(benign_data)\n",
    "\n",
    "# Predict anomalies in the combined dataset (benign + attack)\n",
    "y_pred = model.predict(X_scaled)\n",
    "\n",
    "# Convert predictions: -1 for anomaly (attack), 1 for normal (benign)\n",
    "y_pred = [1 if label == 1 else 0 for label in y_pred]\n",
    "\n",
    "# Evaluate the performance of the model\n",
    "print(\"Classification Report:\")\n",
    "print(classification_report(y, y_pred))\n",
    "\n",
    "print(\"Confusion Matrix:\")\n",
    "print(confusion_matrix(y, y_pred))\n"
   ]
  },
  {
   "cell_type": "code",
   "execution_count": 10,
   "id": "fb22cc1e-55d3-45b4-b7b5-662de9577a64",
   "metadata": {},
   "outputs": [
    {
     "name": "stdout",
     "output_type": "stream",
     "text": [
      "Defaulting to user installation because normal site-packages is not writeable\n",
      "Collecting matplotlib\n",
      "  Downloading matplotlib-3.10.3-cp310-cp310-manylinux_2_17_x86_64.manylinux2014_x86_64.whl (8.6 MB)\n",
      "\u001b[2K     \u001b[38;2;114;156;31m━━━━━━━━━━━━━━━━━━━━━━━━━━━━━━━━━━━━━━━━\u001b[0m \u001b[32m8.6/8.6 MB\u001b[0m \u001b[31m43.1 MB/s\u001b[0m eta \u001b[36m0:00:00\u001b[0mm eta \u001b[36m0:00:01\u001b[0m[36m0:00:01\u001b[0m\n",
      "\u001b[?25hCollecting fonttools>=4.22.0\n",
      "  Downloading fonttools-4.58.2-cp310-cp310-manylinux_2_17_x86_64.manylinux2014_x86_64.whl (4.8 MB)\n",
      "\u001b[2K     \u001b[38;2;114;156;31m━━━━━━━━━━━━━━━━━━━━━━━━━━━━━━━━━━━━━━━━\u001b[0m \u001b[32m4.8/4.8 MB\u001b[0m \u001b[31m81.5 MB/s\u001b[0m eta \u001b[36m0:00:00\u001b[0m9 MB/s\u001b[0m eta \u001b[36m0:00:01\u001b[0m\n",
      "\u001b[?25hCollecting kiwisolver>=1.3.1\n",
      "  Downloading kiwisolver-1.4.8-cp310-cp310-manylinux_2_12_x86_64.manylinux2010_x86_64.whl (1.6 MB)\n",
      "\u001b[2K     \u001b[38;2;114;156;31m━━━━━━━━━━━━━━━━━━━━━━━━━━━━━━━━━━━━━━━━\u001b[0m \u001b[32m1.6/1.6 MB\u001b[0m \u001b[31m71.8 MB/s\u001b[0m eta \u001b[36m0:00:00\u001b[0m\n",
      "\u001b[?25hRequirement already satisfied: python-dateutil>=2.7 in ./.local/lib/python3.10/site-packages (from matplotlib) (2.9.0.post0)\n",
      "Collecting cycler>=0.10\n",
      "  Downloading cycler-0.12.1-py3-none-any.whl (8.3 kB)\n",
      "Collecting contourpy>=1.0.1\n",
      "  Downloading contourpy-1.3.2-cp310-cp310-manylinux_2_17_x86_64.manylinux2014_x86_64.whl (325 kB)\n",
      "\u001b[2K     \u001b[38;2;114;156;31m━━━━━━━━━━━━━━━━━━━━━━━━━━━━━━━━━━━━━━\u001b[0m \u001b[32m325.0/325.0 KB\u001b[0m \u001b[31m51.5 MB/s\u001b[0m eta \u001b[36m0:00:00\u001b[0m\n",
      "\u001b[?25hRequirement already satisfied: numpy>=1.23 in ./.local/lib/python3.10/site-packages (from matplotlib) (2.2.6)\n",
      "Requirement already satisfied: packaging>=20.0 in ./.local/lib/python3.10/site-packages (from matplotlib) (25.0)\n",
      "Collecting pillow>=8\n",
      "  Downloading pillow-11.2.1-cp310-cp310-manylinux_2_28_x86_64.whl (4.6 MB)\n",
      "\u001b[2K     \u001b[38;2;114;156;31m━━━━━━━━━━━━━━━━━━━━━━━━━━━━━━━━━━━━━━━━\u001b[0m \u001b[32m4.6/4.6 MB\u001b[0m \u001b[31m84.1 MB/s\u001b[0m eta \u001b[36m0:00:00\u001b[0m6 MB/s\u001b[0m eta \u001b[36m0:00:01\u001b[0m\n",
      "\u001b[?25hRequirement already satisfied: pyparsing>=2.3.1 in /usr/lib/python3/dist-packages (from matplotlib) (2.4.7)\n",
      "Requirement already satisfied: six>=1.5 in /usr/lib/python3/dist-packages (from python-dateutil>=2.7->matplotlib) (1.16.0)\n",
      "Installing collected packages: pillow, kiwisolver, fonttools, cycler, contourpy, matplotlib\n",
      "Successfully installed contourpy-1.3.2 cycler-0.12.1 fonttools-4.58.2 kiwisolver-1.4.8 matplotlib-3.10.3 pillow-11.2.1\n",
      "Note: you may need to restart the kernel to use updated packages.\n"
     ]
    }
   ],
   "source": [
    "pip install matplotlib\n"
   ]
  },
  {
   "cell_type": "code",
   "execution_count": 11,
   "id": "9b22f8d2-631c-4ed7-9e5a-444059e6709e",
   "metadata": {},
   "outputs": [
    {
     "name": "stdout",
     "output_type": "stream",
     "text": [
      "AUC-ROC: 0.10384965129942322\n",
      "Precision-Recall AUC: 0.10301839307556067\n"
     ]
    },
    {
     "data": {
      "image/png": "[encoded data removed]",
      "text/plain": [
       "<Figure size 800x600 with 1 Axes>"
      ]
     },
     "metadata": {},
     "output_type": "display_data"
    },
    {
     "ename": "NameError",
     "evalue": "name 'roc_curve' is not defined",
     "output_type": "error",
     "traceback": [
      "\u001b[0;31m---------------------------------------------------------------------------\u001b[0m",
      "\u001b[0;31mNameError\u001b[0m                                 Traceback (most recent call last)",
      "Cell \u001b[0;32mIn[11], line 23\u001b[0m\n\u001b[1;32m     20\u001b[0m plt\u001b[38;5;241m.\u001b[39mshow()\n\u001b[1;32m     22\u001b[0m \u001b[38;5;66;03m# Plot ROC curve\u001b[39;00m\n\u001b[0;32m---> 23\u001b[0m fpr, tpr, _ \u001b[38;5;241m=\u001b[39m \u001b[43mroc_curve\u001b[49m(y, y_pred)\n\u001b[1;32m     24\u001b[0m plt\u001b[38;5;241m.\u001b[39mfigure(figsize\u001b[38;5;241m=\u001b[39m(\u001b[38;5;241m8\u001b[39m, \u001b[38;5;241m6\u001b[39m))\n\u001b[1;32m     25\u001b[0m plt\u001b[38;5;241m.\u001b[39mplot(fpr, tpr, color\u001b[38;5;241m=\u001b[39m\u001b[38;5;124m'\u001b[39m\u001b[38;5;124mb\u001b[39m\u001b[38;5;124m'\u001b[39m, label\u001b[38;5;241m=\u001b[39m\u001b[38;5;124mf\u001b[39m\u001b[38;5;124m'\u001b[39m\u001b[38;5;124mROC curve (AUC = \u001b[39m\u001b[38;5;132;01m{\u001b[39;00mroc_auc\u001b[38;5;132;01m:\u001b[39;00m\u001b[38;5;124m.2f\u001b[39m\u001b[38;5;132;01m}\u001b[39;00m\u001b[38;5;124m)\u001b[39m\u001b[38;5;124m'\u001b[39m)\n",
      "\u001b[0;31mNameError\u001b[0m: name 'roc_curve' is not defined"
     ]
    }
   ],
   "source": [
    "from sklearn.metrics import roc_auc_score, precision_recall_curve, auc\n",
    "import matplotlib.pyplot as plt\n",
    "\n",
    "# Calculate AUC-ROC\n",
    "roc_auc = roc_auc_score(y, y_pred)\n",
    "print(f\"AUC-ROC: {roc_auc}\")\n",
    "\n",
    "# Calculate Precision-Recall AUC\n",
    "precision, recall, _ = precision_recall_curve(y, y_pred)\n",
    "pr_auc = auc(recall, precision)\n",
    "print(f\"Precision-Recall AUC: {pr_auc}\")\n",
    "\n",
    "# Plot Precision-Recall curve\n",
    "plt.figure(figsize=(8, 6))\n",
    "plt.plot(recall, precision, color='b', label=f'Precision-Recall curve (AUC = {pr_auc:.2f})')\n",
    "plt.xlabel('Recall')\n",
    "plt.ylabel('Precision')\n",
    "plt.title('Precision-Recall curve')\n",
    "plt.legend(loc=\"best\")\n",
    "plt.show()\n",
    "\n",
    "# Plot ROC curve\n",
    "fpr, tpr, _ = roc_curve(y, y_pred)\n",
    "plt.figure(figsize=(8, 6))\n",
    "plt.plot(fpr, tpr, color='b', label=f'ROC curve (AUC = {roc_auc:.2f})')\n",
    "plt.plot([0, 1], [0, 1], color='gray', linestyle='--')\n",
    "plt.xlabel('False Positive Rate')\n",
    "plt.ylabel('True Positive Rate')\n",
    "plt.title('Receiver Operating Characteristic (ROC) Curve')\n",
    "plt.legend(loc=\"best\")\n",
    "plt.show()\n"
   ]
  },
  {
   "cell_type": "code",
   "execution_count": 13,
   "id": "9c04bfa9-580f-4e3f-8173-da99833d2594",
   "metadata": {},
   "outputs": [
    {
     "name": "stdout",
     "output_type": "stream",
     "text": [
      "Classification Report:\n",
      "              precision    recall  f1-score   support\n",
      "\n",
      "           0       0.25      0.10      0.14    252397\n",
      "           1       0.00      0.00      0.00     75719\n",
      "\n",
      "    accuracy                           0.08    328116\n",
      "   macro avg       0.13      0.05      0.07    328116\n",
      "weighted avg       0.19      0.08      0.11    328116\n",
      "\n",
      "Confusion Matrix:\n",
      "[[ 25241 227156]\n",
      " [ 75719      0]]\n"
     ]
    }
   ],
   "source": [
    "import pandas as pd\n",
    "from sklearn.model_selection import train_test_split\n",
    "from sklearn.preprocessing import StandardScaler\n",
    "from sklearn.ensemble import IsolationForest\n",
    "from sklearn.svm import OneClassSVM\n",
    "from sklearn.metrics import classification_report, confusion_matrix, roc_auc_score, average_precision_score\n",
    "\n",
    "\n",
    "\n",
    "# Load the combined dataset (5% attack data example)\n",
    "combined_data = pd.read_csv('/work/festusedward-n/Dataset_TZ_KM/combined_data_30.csv')\n",
    "\n",
    "# Separate features and target (label)\n",
    "X = combined_data.drop(columns=['label', 'id', 'timestamp'], errors='ignore')  # Drop 'label', 'id', and 'timestamp'\n",
    "y = combined_data['label']  # The label is either 0 (Benign) or 1 (Attack)\n",
    "\n",
    "# Encode categorical columns using LabelEncoder\n",
    "label_encoder = LabelEncoder()\n",
    "categorical_columns = X.select_dtypes(include=['object']).columns\n",
    "\n",
    "# Encode each categorical column\n",
    "for col in categorical_columns:\n",
    "    X[col] = label_encoder.fit_transform(X[col])\n",
    "\n",
    "# Feature scaling (important for SVM)\n",
    "scaler = StandardScaler()\n",
    "X_scaled = scaler.fit_transform(X)\n",
    "\n",
    "# Initialize the One-Class SVM model\n",
    "model = OneClassSVM(nu=0.1, kernel=\"rbf\", gamma=\"auto\")  # nu is the fraction of outliers\n",
    "\n",
    "# Train the model on only benign data\n",
    "benign_data = X_scaled[y == 0]  # Only benign data\n",
    "model.fit(benign_data)\n",
    "\n",
    "# Predict anomalies in the combined dataset (benign + attack)\n",
    "y_pred = model.predict(X_scaled)\n",
    "\n",
    "# Convert predictions: -1 for anomaly (attack), 1 for normal (benign)\n",
    "y_pred = [1 if label == 1 else 0 for label in y_pred]\n",
    "\n",
    "# Evaluate the performance of the model\n",
    "print(\"Classification Report:\")\n",
    "print(classification_report(y, y_pred))\n",
    "\n",
    "print(\"Confusion Matrix:\")\n",
    "print(confusion_matrix(y, y_pred))\n"
   ]
  },
  {
   "cell_type": "code",
   "execution_count": 14,
   "id": "81567043-80d0-49e8-8e7d-9a6e756f7b94",
   "metadata": {},
   "outputs": [
    {
     "name": "stdout",
     "output_type": "stream",
     "text": [
      "Classification Report:\n",
      "              precision    recall  f1-score   support\n",
      "\n",
      "           0       0.23      0.05      0.08    252397\n",
      "           1       0.12      0.43      0.19     75719\n",
      "\n",
      "    accuracy                           0.14    328116\n",
      "   macro avg       0.17      0.24      0.14    328116\n",
      "weighted avg       0.20      0.14      0.11    328116\n",
      "\n",
      "Confusion Matrix:\n",
      "[[ 12620 239777]\n",
      " [ 42828  32891]]\n"
     ]
    }
   ],
   "source": [
    "from sklearn.ensemble import IsolationForest\n",
    "\n",
    "# Initialize the Isolation Forest model\n",
    "model = IsolationForest(contamination=0.05, random_state=42)  # contamination is the expected proportion of outliers\n",
    "\n",
    "# Train the model on only benign data\n",
    "benign_data = X_scaled[y == 0]  # Only benign data\n",
    "model.fit(benign_data)\n",
    "\n",
    "# Predict anomalies in the combined dataset (benign + attack)\n",
    "y_pred = model.predict(X_scaled)\n",
    "\n",
    "# Convert predictions: -1 for anomaly (attack), 1 for normal (benign)\n",
    "y_pred = [1 if label == 1 else 0 for label in y_pred]\n",
    "\n",
    "# Evaluate the performance of the model\n",
    "print(\"Classification Report:\")\n",
    "print(classification_report(y, y_pred))\n",
    "\n",
    "print(\"Confusion Matrix:\")\n",
    "print(confusion_matrix(y, y_pred))"
   ]
  },
  {
   "cell_type": "code",
   "execution_count": 15,
   "id": "d605915a-b76f-4fe9-982e-9946cadc6cda",
   "metadata": {},
   "outputs": [
    {
     "name": "stdout",
     "output_type": "stream",
     "text": [
      "Defaulting to user installation because normal site-packages is not writeable\n",
      "Collecting pyod\n",
      "  Downloading pyod-2.0.5-py3-none-any.whl (200 kB)\n",
      "\u001b[2K     \u001b[38;2;114;156;31m━━━━━━━━━━━━━━━━━━━━━━━━━━━━━━━━━━━━━━━\u001b[0m \u001b[32m200.6/200.6 KB\u001b[0m \u001b[31m3.4 MB/s\u001b[0m eta \u001b[36m0:00:00\u001b[0m[31m2.9 MB/s\u001b[0m eta \u001b[36m0:00:01\u001b[0m\n",
      "\u001b[?25hRequirement already satisfied: numpy>=1.19 in ./.local/lib/python3.10/site-packages (from pyod) (2.2.6)\n",
      "Requirement already satisfied: scipy>=1.5.1 in ./.local/lib/python3.10/site-packages (from pyod) (1.15.3)\n",
      "Requirement already satisfied: matplotlib in ./.local/lib/python3.10/site-packages (from pyod) (3.10.3)\n",
      "Requirement already satisfied: joblib in ./.local/lib/python3.10/site-packages (from pyod) (1.5.1)\n",
      "Collecting numba>=0.51\n",
      "  Downloading numba-0.61.2-cp310-cp310-manylinux2014_x86_64.manylinux_2_17_x86_64.whl (3.8 MB)\n",
      "\u001b[2K     \u001b[38;2;114;156;31m━━━━━━━━━━━━━━━━━━━━━━━━━━━━━━━━━━━━━━━━\u001b[0m \u001b[32m3.8/3.8 MB\u001b[0m \u001b[31m11.8 MB/s\u001b[0m eta \u001b[36m0:00:00\u001b[0m[36m0:00:01\u001b[0m[36m0:00:01\u001b[0m:01\u001b[0m\n",
      "\u001b[?25hRequirement already satisfied: scikit-learn>=0.22.0 in ./.local/lib/python3.10/site-packages (from pyod) (1.7.0)\n",
      "Collecting llvmlite<0.45,>=0.44.0dev0\n",
      "  Downloading llvmlite-0.44.0-cp310-cp310-manylinux_2_17_x86_64.manylinux2014_x86_64.whl (42.4 MB)\n",
      "\u001b[2K     \u001b[38;2;114;156;31m━━━━━━━━━━━━━━━━━━━━━━━━━━━━━━━━━━━━━━━━\u001b[0m \u001b[32m42.4/42.4 MB\u001b[0m \u001b[31m25.3 MB/s\u001b[0m eta \u001b[36m0:00:00\u001b[0mm eta \u001b[36m0:00:01\u001b[0m[36m0:00:01\u001b[0m\n",
      "\u001b[?25hRequirement already satisfied: threadpoolctl>=3.1.0 in ./.local/lib/python3.10/site-packages (from scikit-learn>=0.22.0->pyod) (3.6.0)\n",
      "Requirement already satisfied: contourpy>=1.0.1 in ./.local/lib/python3.10/site-packages (from matplotlib->pyod) (1.3.2)\n",
      "Requirement already satisfied: packaging>=20.0 in ./.local/lib/python3.10/site-packages (from matplotlib->pyod) (25.0)\n",
      "Requirement already satisfied: cycler>=0.10 in ./.local/lib/python3.10/site-packages (from matplotlib->pyod) (0.12.1)\n",
      "Requirement already satisfied: python-dateutil>=2.7 in ./.local/lib/python3.10/site-packages (from matplotlib->pyod) (2.9.0.post0)\n",
      "Requirement already satisfied: pyparsing>=2.3.1 in /usr/lib/python3/dist-packages (from matplotlib->pyod) (2.4.7)\n",
      "Requirement already satisfied: fonttools>=4.22.0 in ./.local/lib/python3.10/site-packages (from matplotlib->pyod) (4.58.2)\n",
      "Requirement already satisfied: pillow>=8 in ./.local/lib/python3.10/site-packages (from matplotlib->pyod) (11.2.1)\n",
      "Requirement already satisfied: kiwisolver>=1.3.1 in ./.local/lib/python3.10/site-packages (from matplotlib->pyod) (1.4.8)\n",
      "Requirement already satisfied: six>=1.5 in /usr/lib/python3/dist-packages (from python-dateutil>=2.7->matplotlib->pyod) (1.16.0)\n",
      "Installing collected packages: llvmlite, numba, pyod\n",
      "Successfully installed llvmlite-0.44.0 numba-0.61.2 pyod-2.0.5\n",
      "Note: you may need to restart the kernel to use updated packages.\n"
     ]
    }
   ],
   "source": [
    "pip install pyod\n"
   ]
  },
  {
   "cell_type": "code",
   "execution_count": 5,
   "id": "8de737b9-bb85-4759-bfb9-13faba477d10",
   "metadata": {},
   "outputs": [
    {
     "name": "stdout",
     "output_type": "stream",
     "text": [
      "Defaulting to user installation because normal site-packages is not writeable\n",
      "Requirement already satisfied: pyod in ./.local/lib/python3.10/site-packages (2.0.5)\n",
      "Requirement already satisfied: numpy>=1.19 in ./.local/lib/python3.10/site-packages (from pyod) (2.2.6)\n",
      "Requirement already satisfied: scipy>=1.5.1 in ./.local/lib/python3.10/site-packages (from pyod) (1.15.3)\n",
      "Requirement already satisfied: scikit-learn>=0.22.0 in ./.local/lib/python3.10/site-packages (from pyod) (1.7.0)\n",
      "Requirement already satisfied: numba>=0.51 in ./.local/lib/python3.10/site-packages (from pyod) (0.61.2)\n",
      "Requirement already satisfied: joblib in ./.local/lib/python3.10/site-packages (from pyod) (1.5.1)\n",
      "Requirement already satisfied: matplotlib in ./.local/lib/python3.10/site-packages (from pyod) (3.10.3)\n",
      "Requirement already satisfied: llvmlite<0.45,>=0.44.0dev0 in ./.local/lib/python3.10/site-packages (from numba>=0.51->pyod) (0.44.0)\n",
      "Requirement already satisfied: threadpoolctl>=3.1.0 in ./.local/lib/python3.10/site-packages (from scikit-learn>=0.22.0->pyod) (3.6.0)\n",
      "Requirement already satisfied: fonttools>=4.22.0 in ./.local/lib/python3.10/site-packages (from matplotlib->pyod) (4.58.2)\n",
      "Requirement already satisfied: kiwisolver>=1.3.1 in ./.local/lib/python3.10/site-packages (from matplotlib->pyod) (1.4.8)\n",
      "Requirement already satisfied: python-dateutil>=2.7 in ./.local/lib/python3.10/site-packages (from matplotlib->pyod) (2.9.0.post0)\n",
      "Requirement already satisfied: cycler>=0.10 in ./.local/lib/python3.10/site-packages (from matplotlib->pyod) (0.12.1)\n",
      "Requirement already satisfied: pyparsing>=2.3.1 in /usr/lib/python3/dist-packages (from matplotlib->pyod) (2.4.7)\n",
      "Requirement already satisfied: contourpy>=1.0.1 in ./.local/lib/python3.10/site-packages (from matplotlib->pyod) (1.3.2)\n",
      "Requirement already satisfied: packaging>=20.0 in ./.local/lib/python3.10/site-packages (from matplotlib->pyod) (25.0)\n",
      "Requirement already satisfied: pillow>=8 in ./.local/lib/python3.10/site-packages (from matplotlib->pyod) (11.2.1)\n",
      "Requirement already satisfied: six>=1.5 in /usr/lib/python3/dist-packages (from python-dateutil>=2.7->matplotlib->pyod) (1.16.0)\n",
      "Note: you may need to restart the kernel to use updated packages.\n"
     ]
    }
   ],
   "source": [
    "pip install pyod"
   ]
  },
  {
   "cell_type": "code",
   "execution_count": 6,
   "id": "b9794deb-e8ae-4ce7-a1c7-b2c7762834fd",
   "metadata": {},
   "outputs": [
    {
     "name": "stdout",
     "output_type": "stream",
     "text": [
      "['__builtins__', '__cached__', '__doc__', '__file__', '__loader__', '__name__', '__package__', '__path__', '__spec__']\n"
     ]
    }
   ],
   "source": [
    "import pyod\n",
    "print(dir(pyod.models))\n"
   ]
  },
  {
   "cell_type": "code",
   "execution_count": 8,
   "id": "a676ba09-8779-42ce-968a-9f5bb9f9c4b0",
   "metadata": {},
   "outputs": [
    {
     "name": "stdout",
     "output_type": "stream",
     "text": [
      "Found existing installation: pyod 2.0.5\n",
      "Uninstalling pyod-2.0.5:\n",
      "  Successfully uninstalled pyod-2.0.5\n"
     ]
    }
   ],
   "source": [
    "!pip uninstall pyod --yes\n"
   ]
  },
  {
   "cell_type": "code",
   "execution_count": 9,
   "id": "75769a1a-28c8-46e4-bc87-a1c051a326d6",
   "metadata": {},
   "outputs": [
    {
     "name": "stdout",
     "output_type": "stream",
     "text": [
      "Collecting pyod\n",
      "  Using cached pyod-2.0.5-py3-none-any.whl (200 kB)\n",
      "Requirement already satisfied: scikit-learn>=0.22.0 in ./.local/lib/python3.10/site-packages (from pyod) (1.7.0)\n",
      "Requirement already satisfied: numba>=0.51 in ./.local/lib/python3.10/site-packages (from pyod) (0.61.2)\n",
      "Requirement already satisfied: joblib in ./.local/lib/python3.10/site-packages (from pyod) (1.5.1)\n",
      "Requirement already satisfied: matplotlib in ./.local/lib/python3.10/site-packages (from pyod) (3.10.3)\n",
      "Requirement already satisfied: scipy>=1.5.1 in ./.local/lib/python3.10/site-packages (from pyod) (1.15.3)\n",
      "Requirement already satisfied: numpy>=1.19 in ./.local/lib/python3.10/site-packages (from pyod) (2.2.6)\n",
      "Requirement already satisfied: llvmlite<0.45,>=0.44.0dev0 in ./.local/lib/python3.10/site-packages (from numba>=0.51->pyod) (0.44.0)\n",
      "Requirement already satisfied: threadpoolctl>=3.1.0 in ./.local/lib/python3.10/site-packages (from scikit-learn>=0.22.0->pyod) (3.6.0)\n",
      "Requirement already satisfied: kiwisolver>=1.3.1 in ./.local/lib/python3.10/site-packages (from matplotlib->pyod) (1.4.8)\n",
      "Requirement already satisfied: fonttools>=4.22.0 in ./.local/lib/python3.10/site-packages (from matplotlib->pyod) (4.58.2)\n",
      "Requirement already satisfied: cycler>=0.10 in ./.local/lib/python3.10/site-packages (from matplotlib->pyod) (0.12.1)\n",
      "Requirement already satisfied: contourpy>=1.0.1 in ./.local/lib/python3.10/site-packages (from matplotlib->pyod) (1.3.2)\n",
      "Requirement already satisfied: pillow>=8 in ./.local/lib/python3.10/site-packages (from matplotlib->pyod) (11.2.1)\n",
      "Requirement already satisfied: pyparsing>=2.3.1 in /usr/lib/python3/dist-packages (from matplotlib->pyod) (2.4.7)\n",
      "Requirement already satisfied: packaging>=20.0 in ./.local/lib/python3.10/site-packages (from matplotlib->pyod) (25.0)\n",
      "Requirement already satisfied: python-dateutil>=2.7 in ./.local/lib/python3.10/site-packages (from matplotlib->pyod) (2.9.0.post0)\n",
      "Requirement already satisfied: six>=1.5 in /usr/lib/python3/dist-packages (from python-dateutil>=2.7->matplotlib->pyod) (1.16.0)\n",
      "Installing collected packages: pyod\n",
      "Successfully installed pyod-2.0.5\n"
     ]
    }
   ],
   "source": [
    "!pip install --user pyod\n"
   ]
  },
  {
   "cell_type": "code",
   "execution_count": 7,
   "id": "af8209e5-2312-4c24-8398-59703b34baf6",
   "metadata": {},
   "outputs": [
    {
     "name": "stdout",
     "output_type": "stream",
     "text": [
      "Classification Report:\n",
      "              precision    recall  f1-score   support\n",
      "\n",
      "           0       0.76      0.89      0.82     50561\n",
      "           1       0.17      0.07      0.10     15063\n",
      "\n",
      "    accuracy                           0.70     65624\n",
      "   macro avg       0.47      0.48      0.46     65624\n",
      "weighted avg       0.63      0.70      0.66     65624\n",
      "\n",
      "Confusion Matrix:\n",
      "[[45126  5435]\n",
      " [13935  1128]]\n"
     ]
    }
   ],
   "source": [
    "import pandas as pd\n",
    "from sklearn.model_selection import train_test_split\n",
    "from sklearn.neighbors import LocalOutlierFactor\n",
    "from sklearn.metrics import classification_report, confusion_matrix\n",
    "from sklearn.preprocessing import StandardScaler, LabelEncoder\n",
    "\n",
    "# Load the combined dataset (5% attack data example)\n",
    "combined_data = pd.read_csv('/work/festusedward-n/Dataset_TZ_KM/combined_data_30.csv')\n",
    "\n",
    "\n",
    "# Separate features (X) and target (y)\n",
    "X = combined_data.drop(columns=['label', 'id', 'timestamp'], errors='ignore')  # Drop label, id, and timestamp\n",
    "y = combined_data['label']  # Label column (Benign = 0, Attack = 1)\n",
    "\n",
    "# Encode categorical columns using LabelEncoder\n",
    "label_encoder = LabelEncoder()\n",
    "categorical_columns = X.select_dtypes(include=['object']).columns\n",
    "\n",
    "# Encode each categorical column\n",
    "for col in categorical_columns:\n",
    "    X[col] = label_encoder.fit_transform(X[col])\n",
    "\n",
    "# Split data into training and testing sets (80% train, 20% test)\n",
    "X_train, X_test, y_train, y_test = train_test_split(X, y, test_size=0.2, random_state=42)\n",
    "\n",
    "# Feature scaling\n",
    "scaler = StandardScaler()\n",
    "X_train_scaled = scaler.fit_transform(X_train)\n",
    "X_test_scaled = scaler.transform(X_test)\n",
    "\n",
    "# Instantiate the LOF model\n",
    "model = LocalOutlierFactor(n_neighbors=20, contamination=0.1)  # contamination is the expected ratio of anomalies in the data\n",
    "\n",
    "# Fit the model to the training data and predict\n",
    "y_pred = model.fit_predict(X_test_scaled)\n",
    "\n",
    "# Convert LOF results (-1: anomaly, 1: normal) to binary (1: attack, 0: benign)\n",
    "y_pred = [1 if label == -1 else 0 for label in y_pred]  # Convert -1 to 1 (attack) and 1 to 0 (benign)\n",
    "\n",
    "# Print the classification report and confusion matrix\n",
    "print(\"Classification Report:\")\n",
    "print(classification_report(y_test, y_pred))\n",
    "\n",
    "print(\"Confusion Matrix:\")\n",
    "print(confusion_matrix(y_test, y_pred))\n",
    "\n",
    "\n",
    "\n",
    "\n",
    "\n"
   ]
  },
  {
   "cell_type": "code",
   "execution_count": 9,
   "id": "cee59efd-952d-4ffd-adfb-f2ceec851b81",
   "metadata": {},
   "outputs": [
    {
     "name": "stdout",
     "output_type": "stream",
     "text": [
      "Defaulting to user installation because normal site-packages is not writeable\n",
      "Collecting imbalanced-learn\n",
      "  Downloading imbalanced_learn-0.13.0-py3-none-any.whl (238 kB)\n",
      "\u001b[2K     \u001b[38;2;114;156;31m━━━━━━━━━━━━━━━━━━━━━━━━━━━━━━━━━━━━━━━\u001b[0m \u001b[32m238.4/238.4 KB\u001b[0m \u001b[31m4.5 MB/s\u001b[0m eta \u001b[36m0:00:00\u001b[0m MB/s\u001b[0m eta \u001b[36m0:00:01\u001b[0m\n",
      "\u001b[?25hRequirement already satisfied: joblib<2,>=1.1.1 in ./.local/lib/python3.10/site-packages (from imbalanced-learn) (1.5.1)\n",
      "Collecting sklearn-compat<1,>=0.1\n",
      "  Downloading sklearn_compat-0.1.3-py3-none-any.whl (18 kB)\n",
      "Requirement already satisfied: numpy<3,>=1.24.3 in ./.local/lib/python3.10/site-packages (from imbalanced-learn) (2.2.6)\n",
      "Requirement already satisfied: scikit-learn<2,>=1.3.2 in ./.local/lib/python3.10/site-packages (from imbalanced-learn) (1.7.0)\n",
      "Requirement already satisfied: threadpoolctl<4,>=2.0.0 in ./.local/lib/python3.10/site-packages (from imbalanced-learn) (3.6.0)\n",
      "Requirement already satisfied: scipy<2,>=1.10.1 in ./.local/lib/python3.10/site-packages (from imbalanced-learn) (1.15.3)\n",
      "Collecting scikit-learn<2,>=1.3.2\n",
      "  Downloading scikit_learn-1.6.1-cp310-cp310-manylinux_2_17_x86_64.manylinux2014_x86_64.whl (13.5 MB)\n",
      "\u001b[2K     \u001b[38;2;114;156;31m━━━━━━━━━━━━━━━━━━━━━━━━━━━━━━━━━━━━━━━━\u001b[0m \u001b[32m13.5/13.5 MB\u001b[0m \u001b[31m31.8 MB/s\u001b[0m eta \u001b[36m0:00:00\u001b[0mm eta \u001b[36m0:00:01\u001b[0m0:01\u001b[0m01\u001b[0m\n",
      "\u001b[?25hInstalling collected packages: scikit-learn, sklearn-compat, imbalanced-learn\n",
      "  Attempting uninstall: scikit-learn\n",
      "    Found existing installation: scikit-learn 1.7.0\n",
      "    Uninstalling scikit-learn-1.7.0:\n",
      "      Successfully uninstalled scikit-learn-1.7.0\n",
      "Successfully installed imbalanced-learn-0.13.0 scikit-learn-1.6.1 sklearn-compat-0.1.3\n",
      "Note: you may need to restart the kernel to use updated packages.\n"
     ]
    }
   ],
   "source": [
    "pip install imbalanced-learn\n"
   ]
  },
  {
   "cell_type": "code",
   "execution_count": 11,
   "id": "d08b3962-7903-4562-80a1-796d8862b2c3",
   "metadata": {},
   "outputs": [
    {
     "name": "stdout",
     "output_type": "stream",
     "text": [
      "Defaulting to user installation because normal site-packages is not writeable\n",
      "Requirement already satisfied: scikit-learn in ./.local/lib/python3.10/site-packages (1.6.1)\n",
      "Collecting scikit-learn\n",
      "  Using cached scikit_learn-1.7.0-cp310-cp310-manylinux_2_17_x86_64.manylinux2014_x86_64.whl (12.9 MB)\n",
      "Requirement already satisfied: imbalanced-learn in ./.local/lib/python3.10/site-packages (0.13.0)\n",
      "Requirement already satisfied: joblib>=1.2.0 in ./.local/lib/python3.10/site-packages (from scikit-learn) (1.5.1)\n",
      "Requirement already satisfied: threadpoolctl>=3.1.0 in ./.local/lib/python3.10/site-packages (from scikit-learn) (3.6.0)\n",
      "Requirement already satisfied: scipy>=1.8.0 in ./.local/lib/python3.10/site-packages (from scikit-learn) (1.15.3)\n",
      "Requirement already satisfied: numpy>=1.22.0 in ./.local/lib/python3.10/site-packages (from scikit-learn) (2.2.6)\n",
      "Requirement already satisfied: sklearn-compat<1,>=0.1 in ./.local/lib/python3.10/site-packages (from imbalanced-learn) (0.1.3)\n",
      "Note: you may need to restart the kernel to use updated packages.\n"
     ]
    }
   ],
   "source": [
    "pip install --upgrade scikit-learn imbalanced-learn\n"
   ]
  },
  {
   "cell_type": "code",
   "execution_count": 15,
   "id": "cf995c5b-e726-4b70-b9e7-b8fbeb08aec4",
   "metadata": {},
   "outputs": [
    {
     "name": "stdout",
     "output_type": "stream",
     "text": [
      "Defaulting to user installation because normal site-packages is not writeable\n",
      "Requirement already satisfied: scikit-learn in ./.local/lib/python3.10/site-packages (1.6.1)\n",
      "Collecting scikit-learn\n",
      "  Using cached scikit_learn-1.7.0-cp310-cp310-manylinux_2_17_x86_64.manylinux2014_x86_64.whl (12.9 MB)\n",
      "Requirement already satisfied: imbalanced-learn in ./.local/lib/python3.10/site-packages (0.13.0)\n",
      "Requirement already satisfied: scipy>=1.8.0 in ./.local/lib/python3.10/site-packages (from scikit-learn) (1.15.3)\n",
      "Requirement already satisfied: joblib>=1.2.0 in ./.local/lib/python3.10/site-packages (from scikit-learn) (1.5.1)\n",
      "Requirement already satisfied: threadpoolctl>=3.1.0 in ./.local/lib/python3.10/site-packages (from scikit-learn) (3.6.0)\n",
      "Requirement already satisfied: numpy>=1.22.0 in ./.local/lib/python3.10/site-packages (from scikit-learn) (2.2.6)\n",
      "Requirement already satisfied: sklearn-compat<1,>=0.1 in ./.local/lib/python3.10/site-packages (from imbalanced-learn) (0.1.3)\n",
      "Note: you may need to restart the kernel to use updated packages.\n"
     ]
    }
   ],
   "source": [
    "pip install --upgrade scikit-learn imbalanced-learn\n"
   ]
  },
  {
   "cell_type": "code",
   "execution_count": 1,
   "id": "0367ca0d-2cd5-4c92-af83-920cae946cd1",
   "metadata": {},
   "outputs": [
    {
     "name": "stdout",
     "output_type": "stream",
     "text": [
      "scikit-learn version: 1.6.1\n",
      "imbalanced-learn version: 0.13.0\n"
     ]
    }
   ],
   "source": [
    "import sklearn\n",
    "import imblearn\n",
    "\n",
    "print(\"scikit-learn version:\", sklearn.__version__)\n",
    "print(\"imbalanced-learn version:\", imblearn.__version__)\n"
   ]
  },
  {
   "cell_type": "code",
   "execution_count": 4,
   "id": "03836906-c73b-4f31-b0d8-b60c0e5ef110",
   "metadata": {},
   "outputs": [
    {
     "name": "stderr",
     "output_type": "stream",
     "text": [
      "/work/festusedward-n/.local/lib/python3.10/site-packages/sklearn/neighbors/_lof.py:322: UserWarning: Duplicate values are leading to incorrect results. Increase the number of neighbors for more accurate results.\n",
      "  warnings.warn(\n"
     ]
    },
    {
     "name": "stdout",
     "output_type": "stream",
     "text": [
      "Classification Report (Test Data):\n",
      "              precision    recall  f1-score   support\n",
      "\n",
      "           0       0.77      0.90      0.83     50561\n",
      "           1       0.21      0.09      0.13     15063\n",
      "\n",
      "    accuracy                           0.71     65624\n",
      "   macro avg       0.49      0.50      0.48     65624\n",
      "weighted avg       0.64      0.71      0.67     65624\n",
      "\n",
      "Confusion Matrix (Test Data):\n",
      "[[45390  5171]\n",
      " [13671  1392]]\n"
     ]
    }
   ],
   "source": [
    "import pandas as pd\n",
    "from sklearn.model_selection import train_test_split\n",
    "from sklearn.neighbors import LocalOutlierFactor\n",
    "from sklearn.metrics import classification_report, confusion_matrix\n",
    "from sklearn.preprocessing import StandardScaler, LabelEncoder\n",
    "from imblearn.over_sampling import SMOTE\n",
    "\n",
    "# Load the combined dataset (30% attack data example)\n",
    "combined_data = pd.read_csv('/work/festusedward-n/Dataset_TZ_KM/combined_data_30.csv')\n",
    "\n",
    "# Separate features (X) and target (y)\n",
    "X = combined_data.drop(columns=['label', 'id', 'timestamp'], errors='ignore')  # Drop label, id, and timestamp\n",
    "y = combined_data['label']  # Label column (Benign = 0, Attack = 1)\n",
    "\n",
    "# Encode categorical columns using LabelEncoder\n",
    "label_encoder = LabelEncoder()\n",
    "categorical_columns = X.select_dtypes(include=['object']).columns\n",
    "\n",
    "# Encode each categorical column\n",
    "for col in categorical_columns:\n",
    "    X[col] = label_encoder.fit_transform(X[col])\n",
    "\n",
    "# Split data into training and testing sets (80% train, 20% test)\n",
    "X_train, X_test, y_train, y_test = train_test_split(X, y, test_size=0.2, random_state=42)\n",
    "\n",
    "# Feature scaling\n",
    "scaler = StandardScaler()\n",
    "X_train_scaled = scaler.fit_transform(X_train)\n",
    "X_test_scaled = scaler.transform(X_test)\n",
    "\n",
    "# Apply SMOTE to the training set to handle class imbalance\n",
    "smote = SMOTE(sampling_strategy='auto', random_state=42)  # You can set the ratio here\n",
    "X_train_res, y_train_res = smote.fit_resample(X_train_scaled, y_train)\n",
    "\n",
    "# Instantiate the LOF model (used for anomaly detection)\n",
    "model = LocalOutlierFactor(n_neighbors=40, contamination=0.1)  # Increase neighbors if needed\n",
    "\n",
    "# Fit the model and predict anomalies on both the training and test sets\n",
    "y_train_pred = model.fit_predict(X_train_res)  # Fit and predict on the training data\n",
    "y_test_pred = model.fit_predict(X_test_scaled)  # Fit and predict on the test data\n",
    "\n",
    "# Convert LOF results (-1: anomaly, 1: normal) to binary (1: attack, 0: benign)\n",
    "y_train_pred = [1 if label == -1 else 0 for label in y_train_pred]  # Convert -1 to 1 (attack) and 1 to 0 (benign)\n",
    "y_test_pred = [1 if label == -1 else 0 for label in y_test_pred]  # Convert -1 to 1 (attack) and 1 to 0 (benign)\n",
    "\n",
    "# Print the classification report and confusion matrix\n",
    "print(\"Classification Report (Test Data):\")\n",
    "print(classification_report(y_test, y_test_pred))\n",
    "\n",
    "print(\"Confusion Matrix (Test Data):\")\n",
    "print(confusion_matrix(y_test, y_test_pred))\n"
   ]
  },
  {
   "cell_type": "code",
   "execution_count": 5,
   "id": "41394925-0c6d-4fec-ae65-213e442f0e57",
   "metadata": {},
   "outputs": [
    {
     "name": "stdout",
     "output_type": "stream",
     "text": [
      "Classification Report (Test Data):\n",
      "              precision    recall  f1-score   support\n",
      "\n",
      "           0       0.78      0.92      0.85     50561\n",
      "           1       0.35      0.14      0.20     15063\n",
      "\n",
      "    accuracy                           0.74     65624\n",
      "   macro avg       0.56      0.53      0.52     65624\n",
      "weighted avg       0.68      0.74      0.70     65624\n",
      "\n",
      "Confusion Matrix (Test Data):\n",
      "[[46562  3999]\n",
      " [12940  2123]]\n"
     ]
    }
   ],
   "source": [
    "import pandas as pd\n",
    "from sklearn.model_selection import train_test_split\n",
    "from sklearn.ensemble import IsolationForest\n",
    "from imblearn.over_sampling import SMOTE\n",
    "from sklearn.metrics import classification_report, confusion_matrix\n",
    "from sklearn.preprocessing import StandardScaler, LabelEncoder\n",
    "\n",
    "# Load the combined dataset (30% attack data example)\n",
    "combined_data = pd.read_csv('/work/festusedward-n/Dataset_TZ_KM/combined_data_30.csv')\n",
    "\n",
    "# Separate features (X) and target (y)\n",
    "X = combined_data.drop(columns=['label', 'id', 'timestamp'], errors='ignore')  # Drop label, id, and timestamp\n",
    "y = combined_data['label']  # Label column (Benign = 0, Attack = 1)\n",
    "\n",
    "# Encode categorical columns using LabelEncoder\n",
    "label_encoder = LabelEncoder()\n",
    "categorical_columns = X.select_dtypes(include=['object']).columns\n",
    "\n",
    "# Encode each categorical column\n",
    "for col in categorical_columns:\n",
    "    X[col] = label_encoder.fit_transform(X[col])\n",
    "\n",
    "# Split data into training and testing sets (80% train, 20% test)\n",
    "X_train, X_test, y_train, y_test = train_test_split(X, y, test_size=0.2, random_state=42)\n",
    "\n",
    "# Feature scaling\n",
    "scaler = StandardScaler()\n",
    "X_train_scaled = scaler.fit_transform(X_train)\n",
    "X_test_scaled = scaler.transform(X_test)\n",
    "\n",
    "# Apply SMOTE to balance the classes in the training data\n",
    "smote = SMOTE(sampling_strategy=0.5, random_state=42)  # This will add synthetic data for the minority class\n",
    "X_train_res, y_train_res = smote.fit_resample(X_train_scaled, y_train)\n",
    "\n",
    "# Instantiate the Isolation Forest model with a fine-tuned contamination parameter\n",
    "model = IsolationForest(contamination=0.1, random_state=42)  # Set contamination to 0.1 (based on expected attack ratio)\n",
    "\n",
    "# Fit the model to the resampled training data\n",
    "model.fit(X_train_res)\n",
    "\n",
    "# Predict on the test set (since Isolation Forest doesn't use the same prediction method, we can use the score)\n",
    "y_pred = model.predict(X_test_scaled)\n",
    "\n",
    "# Convert the IsolationForest results (1: normal, -1: anomaly) to binary (1: attack, 0: benign)\n",
    "y_pred = [1 if label == -1 else 0 for label in y_pred]  # Convert -1 to 1 (attack) and 1 to 0 (benign)\n",
    "\n",
    "# Print the classification report and confusion matrix\n",
    "print(\"Classification Report (Test Data):\")\n",
    "print(classification_report(y_test, y_pred))\n",
    "\n",
    "print(\"Confusion Matrix (Test Data):\")\n",
    "print(confusion_matrix(y_test, y_pred))\n"
   ]
  },
  {
   "cell_type": "code",
   "execution_count": 8,
   "id": "6864bad2-94a7-4c37-b433-fc221d934cdd",
   "metadata": {},
   "outputs": [
    {
     "name": "stdout",
     "output_type": "stream",
     "text": [
      "Classification Report (Test Data):\n",
      "              precision    recall  f1-score   support\n",
      "\n",
      "           0       0.77      0.90      0.83     50561\n",
      "           1       0.23      0.10      0.14     15063\n",
      "\n",
      "    accuracy                           0.72     65624\n",
      "   macro avg       0.50      0.50      0.48     65624\n",
      "weighted avg       0.65      0.72      0.67     65624\n",
      "\n",
      "Confusion Matrix (Test Data):\n",
      "[[45451  5110]\n",
      " [13563  1500]]\n"
     ]
    }
   ],
   "source": [
    "from imblearn.over_sampling import SMOTE\n",
    "from sklearn.ensemble import IsolationForest\n",
    "from sklearn.metrics import classification_report, confusion_matrix\n",
    "from sklearn.model_selection import train_test_split\n",
    "from sklearn.preprocessing import StandardScaler, LabelEncoder\n",
    "\n",
    "# Load the combined dataset (30% attack data example)\n",
    "combined_data = pd.read_csv('/work/festusedward-n/Dataset_TZ_KM/combined_data_30.csv')\n",
    "\n",
    "# Separate features (X) and target (y)\n",
    "X = combined_data.drop(columns=['label', 'id', 'timestamp'], errors='ignore')\n",
    "y = combined_data['label']\n",
    "\n",
    "# Encode categorical columns using LabelEncoder\n",
    "label_encoder = LabelEncoder()\n",
    "categorical_columns = X.select_dtypes(include=['object']).columns\n",
    "for col in categorical_columns:\n",
    "    X[col] = label_encoder.fit_transform(X[col])\n",
    "\n",
    "# Split data into training and testing sets (80% train, 20% test)\n",
    "X_train, X_test, y_train, y_test = train_test_split(X, y, test_size=0.2, random_state=42)\n",
    "\n",
    "# Feature scaling\n",
    "scaler = StandardScaler()\n",
    "X_train_scaled = scaler.fit_transform(X_train)\n",
    "X_test_scaled = scaler.transform(X_test)\n",
    "\n",
    "# Apply SMOTE to balance the data\n",
    "smote = SMOTE(sampling_strategy=0.8, random_state=42)\n",
    "X_train_res, y_train_res = smote.fit_resample(X_train_scaled, y_train)\n",
    "\n",
    "# Instantiate IsolationForest without class_weight (removing the class_weight parameter)\n",
    "model = IsolationForest(n_estimators=100, contamination=0.1, random_state=42)\n",
    "\n",
    "# Fit the model on the resampled data\n",
    "model.fit(X_train_res)\n",
    "\n",
    "# Predict on the test set\n",
    "y_pred = model.predict(X_test_scaled)\n",
    "\n",
    "# Convert the Isolation Forest output (1 for normal, -1 for outlier) to binary (1 for attack, 0 for benign)\n",
    "y_pred = [1 if label == -1 else 0 for label in y_pred]\n",
    "\n",
    "# Print the classification report and confusion matrix\n",
    "print(\"Classification Report (Test Data):\")\n",
    "print(classification_report(y_test, y_pred))\n",
    "\n",
    "print(\"Confusion Matrix (Test Data):\")\n",
    "print(confusion_matrix(y_test, y_pred))\n"
   ]
  },
  {
   "cell_type": "code",
   "execution_count": 13,
   "id": "d58ee7af-3597-4010-aea9-a80d36264e26",
   "metadata": {},
   "outputs": [
    {
     "name": "stderr",
     "output_type": "stream",
     "text": [
      "/work/festusedward-n/.local/lib/python3.10/site-packages/sklearn/neighbors/_lof.py:322: UserWarning: Duplicate values are leading to incorrect results. Increase the number of neighbors for more accurate results.\n",
      "  warnings.warn(\n"
     ]
    },
    {
     "ename": "ValueError",
     "evalue": "The estimator IsolationForest should be a classifier.",
     "output_type": "error",
     "traceback": [
      "\u001b[0;31m---------------------------------------------------------------------------\u001b[0m",
      "\u001b[0;31mValueError\u001b[0m                                Traceback (most recent call last)",
      "Cell \u001b[0;32mIn[13], line 54\u001b[0m\n\u001b[1;32m     52\u001b[0m \u001b[38;5;66;03m# ---------------------- Voting Classifier to combine the models -------------------\u001b[39;00m\n\u001b[1;32m     53\u001b[0m voting_clf \u001b[38;5;241m=\u001b[39m VotingClassifier(estimators\u001b[38;5;241m=\u001b[39m[(\u001b[38;5;124m'\u001b[39m\u001b[38;5;124mif\u001b[39m\u001b[38;5;124m'\u001b[39m, model_if), (\u001b[38;5;124m'\u001b[39m\u001b[38;5;124msvm\u001b[39m\u001b[38;5;124m'\u001b[39m, model_svm), (\u001b[38;5;124m'\u001b[39m\u001b[38;5;124mlof\u001b[39m\u001b[38;5;124m'\u001b[39m, model_lof)], voting\u001b[38;5;241m=\u001b[39m\u001b[38;5;124m'\u001b[39m\u001b[38;5;124mhard\u001b[39m\u001b[38;5;124m'\u001b[39m)\n\u001b[0;32m---> 54\u001b[0m \u001b[43mvoting_clf\u001b[49m\u001b[38;5;241;43m.\u001b[39;49m\u001b[43mfit\u001b[49m\u001b[43m(\u001b[49m\u001b[43mX_res\u001b[49m\u001b[43m,\u001b[49m\u001b[43m \u001b[49m\u001b[43my_res\u001b[49m\u001b[43m)\u001b[49m  \u001b[38;5;66;03m# Fit the ensemble model\u001b[39;00m\n\u001b[1;32m     56\u001b[0m \u001b[38;5;66;03m# ---------------------- Evaluate on Test Data ----------------------\u001b[39;00m\n\u001b[1;32m     57\u001b[0m y_pred_voting \u001b[38;5;241m=\u001b[39m voting_clf\u001b[38;5;241m.\u001b[39mpredict(X_scaled)\n",
      "File \u001b[0;32m~/.local/lib/python3.10/site-packages/sklearn/base.py:1389\u001b[0m, in \u001b[0;36m_fit_context.<locals>.decorator.<locals>.wrapper\u001b[0;34m(estimator, *args, **kwargs)\u001b[0m\n\u001b[1;32m   1382\u001b[0m     estimator\u001b[38;5;241m.\u001b[39m_validate_params()\n\u001b[1;32m   1384\u001b[0m \u001b[38;5;28;01mwith\u001b[39;00m config_context(\n\u001b[1;32m   1385\u001b[0m     skip_parameter_validation\u001b[38;5;241m=\u001b[39m(\n\u001b[1;32m   1386\u001b[0m         prefer_skip_nested_validation \u001b[38;5;129;01mor\u001b[39;00m global_skip_validation\n\u001b[1;32m   1387\u001b[0m     )\n\u001b[1;32m   1388\u001b[0m ):\n\u001b[0;32m-> 1389\u001b[0m     \u001b[38;5;28;01mreturn\u001b[39;00m \u001b[43mfit_method\u001b[49m\u001b[43m(\u001b[49m\u001b[43mestimator\u001b[49m\u001b[43m,\u001b[49m\u001b[43m \u001b[49m\u001b[38;5;241;43m*\u001b[39;49m\u001b[43margs\u001b[49m\u001b[43m,\u001b[49m\u001b[43m \u001b[49m\u001b[38;5;241;43m*\u001b[39;49m\u001b[38;5;241;43m*\u001b[39;49m\u001b[43mkwargs\u001b[49m\u001b[43m)\u001b[49m\n",
      "File \u001b[0;32m~/.local/lib/python3.10/site-packages/sklearn/utils/validation.py:63\u001b[0m, in \u001b[0;36m_deprecate_positional_args.<locals>._inner_deprecate_positional_args.<locals>.inner_f\u001b[0;34m(*args, **kwargs)\u001b[0m\n\u001b[1;32m     61\u001b[0m extra_args \u001b[38;5;241m=\u001b[39m \u001b[38;5;28mlen\u001b[39m(args) \u001b[38;5;241m-\u001b[39m \u001b[38;5;28mlen\u001b[39m(all_args)\n\u001b[1;32m     62\u001b[0m \u001b[38;5;28;01mif\u001b[39;00m extra_args \u001b[38;5;241m<\u001b[39m\u001b[38;5;241m=\u001b[39m \u001b[38;5;241m0\u001b[39m:\n\u001b[0;32m---> 63\u001b[0m     \u001b[38;5;28;01mreturn\u001b[39;00m \u001b[43mf\u001b[49m\u001b[43m(\u001b[49m\u001b[38;5;241;43m*\u001b[39;49m\u001b[43margs\u001b[49m\u001b[43m,\u001b[49m\u001b[43m \u001b[49m\u001b[38;5;241;43m*\u001b[39;49m\u001b[38;5;241;43m*\u001b[39;49m\u001b[43mkwargs\u001b[49m\u001b[43m)\u001b[49m\n\u001b[1;32m     65\u001b[0m \u001b[38;5;66;03m# extra_args > 0\u001b[39;00m\n\u001b[1;32m     66\u001b[0m args_msg \u001b[38;5;241m=\u001b[39m [\n\u001b[1;32m     67\u001b[0m     \u001b[38;5;124m\"\u001b[39m\u001b[38;5;132;01m{}\u001b[39;00m\u001b[38;5;124m=\u001b[39m\u001b[38;5;132;01m{}\u001b[39;00m\u001b[38;5;124m\"\u001b[39m\u001b[38;5;241m.\u001b[39mformat(name, arg)\n\u001b[1;32m     68\u001b[0m     \u001b[38;5;28;01mfor\u001b[39;00m name, arg \u001b[38;5;129;01min\u001b[39;00m \u001b[38;5;28mzip\u001b[39m(kwonly_args[:extra_args], args[\u001b[38;5;241m-\u001b[39mextra_args:])\n\u001b[1;32m     69\u001b[0m ]\n",
      "File \u001b[0;32m~/.local/lib/python3.10/site-packages/sklearn/ensemble/_voting.py:419\u001b[0m, in \u001b[0;36mVotingClassifier.fit\u001b[0;34m(self, X, y, sample_weight, **fit_params)\u001b[0m\n\u001b[1;32m    416\u001b[0m \u001b[38;5;28;01mif\u001b[39;00m sample_weight \u001b[38;5;129;01mis\u001b[39;00m \u001b[38;5;129;01mnot\u001b[39;00m \u001b[38;5;28;01mNone\u001b[39;00m:\n\u001b[1;32m    417\u001b[0m     fit_params[\u001b[38;5;124m\"\u001b[39m\u001b[38;5;124msample_weight\u001b[39m\u001b[38;5;124m\"\u001b[39m] \u001b[38;5;241m=\u001b[39m sample_weight\n\u001b[0;32m--> 419\u001b[0m \u001b[38;5;28;01mreturn\u001b[39;00m \u001b[38;5;28;43msuper\u001b[39;49m\u001b[43m(\u001b[49m\u001b[43m)\u001b[49m\u001b[38;5;241;43m.\u001b[39;49m\u001b[43mfit\u001b[49m\u001b[43m(\u001b[49m\u001b[43mX\u001b[49m\u001b[43m,\u001b[49m\u001b[43m \u001b[49m\u001b[43mtransformed_y\u001b[49m\u001b[43m,\u001b[49m\u001b[43m \u001b[49m\u001b[38;5;241;43m*\u001b[39;49m\u001b[38;5;241;43m*\u001b[39;49m\u001b[43mfit_params\u001b[49m\u001b[43m)\u001b[49m\n",
      "File \u001b[0;32m~/.local/lib/python3.10/site-packages/sklearn/ensemble/_voting.py:81\u001b[0m, in \u001b[0;36m_BaseVoting.fit\u001b[0;34m(self, X, y, **fit_params)\u001b[0m\n\u001b[1;32m     78\u001b[0m \u001b[38;5;129m@abstractmethod\u001b[39m\n\u001b[1;32m     79\u001b[0m \u001b[38;5;28;01mdef\u001b[39;00m \u001b[38;5;21mfit\u001b[39m(\u001b[38;5;28mself\u001b[39m, X, y, \u001b[38;5;241m*\u001b[39m\u001b[38;5;241m*\u001b[39mfit_params):\n\u001b[1;32m     80\u001b[0m     \u001b[38;5;124;03m\"\"\"Get common fit operations.\"\"\"\u001b[39;00m\n\u001b[0;32m---> 81\u001b[0m     names, clfs \u001b[38;5;241m=\u001b[39m \u001b[38;5;28;43mself\u001b[39;49m\u001b[38;5;241;43m.\u001b[39;49m\u001b[43m_validate_estimators\u001b[49m\u001b[43m(\u001b[49m\u001b[43m)\u001b[49m\n\u001b[1;32m     83\u001b[0m     \u001b[38;5;28;01mif\u001b[39;00m \u001b[38;5;28mself\u001b[39m\u001b[38;5;241m.\u001b[39mweights \u001b[38;5;129;01mis\u001b[39;00m \u001b[38;5;129;01mnot\u001b[39;00m \u001b[38;5;28;01mNone\u001b[39;00m \u001b[38;5;129;01mand\u001b[39;00m \u001b[38;5;28mlen\u001b[39m(\u001b[38;5;28mself\u001b[39m\u001b[38;5;241m.\u001b[39mweights) \u001b[38;5;241m!=\u001b[39m \u001b[38;5;28mlen\u001b[39m(\u001b[38;5;28mself\u001b[39m\u001b[38;5;241m.\u001b[39mestimators):\n\u001b[1;32m     84\u001b[0m         \u001b[38;5;28;01mraise\u001b[39;00m \u001b[38;5;167;01mValueError\u001b[39;00m(\n\u001b[1;32m     85\u001b[0m             \u001b[38;5;124m\"\u001b[39m\u001b[38;5;124mNumber of `estimators` and weights must be equal; got\u001b[39m\u001b[38;5;124m\"\u001b[39m\n\u001b[1;32m     86\u001b[0m             \u001b[38;5;124mf\u001b[39m\u001b[38;5;124m\"\u001b[39m\u001b[38;5;124m \u001b[39m\u001b[38;5;132;01m{\u001b[39;00m\u001b[38;5;28mlen\u001b[39m(\u001b[38;5;28mself\u001b[39m\u001b[38;5;241m.\u001b[39mweights)\u001b[38;5;132;01m}\u001b[39;00m\u001b[38;5;124m weights, \u001b[39m\u001b[38;5;132;01m{\u001b[39;00m\u001b[38;5;28mlen\u001b[39m(\u001b[38;5;28mself\u001b[39m\u001b[38;5;241m.\u001b[39mestimators)\u001b[38;5;132;01m}\u001b[39;00m\u001b[38;5;124m estimators\u001b[39m\u001b[38;5;124m\"\u001b[39m\n\u001b[1;32m     87\u001b[0m         )\n",
      "File \u001b[0;32m~/.local/lib/python3.10/site-packages/sklearn/ensemble/_base.py:234\u001b[0m, in \u001b[0;36m_BaseHeterogeneousEnsemble._validate_estimators\u001b[0;34m(self)\u001b[0m\n\u001b[1;32m    232\u001b[0m \u001b[38;5;28;01mfor\u001b[39;00m est \u001b[38;5;129;01min\u001b[39;00m estimators:\n\u001b[1;32m    233\u001b[0m     \u001b[38;5;28;01mif\u001b[39;00m est \u001b[38;5;241m!=\u001b[39m \u001b[38;5;124m\"\u001b[39m\u001b[38;5;124mdrop\u001b[39m\u001b[38;5;124m\"\u001b[39m \u001b[38;5;129;01mand\u001b[39;00m \u001b[38;5;129;01mnot\u001b[39;00m is_estimator_type(est):\n\u001b[0;32m--> 234\u001b[0m         \u001b[38;5;28;01mraise\u001b[39;00m \u001b[38;5;167;01mValueError\u001b[39;00m(\n\u001b[1;32m    235\u001b[0m             \u001b[38;5;124m\"\u001b[39m\u001b[38;5;124mThe estimator \u001b[39m\u001b[38;5;132;01m{}\u001b[39;00m\u001b[38;5;124m should be a \u001b[39m\u001b[38;5;132;01m{}\u001b[39;00m\u001b[38;5;124m.\u001b[39m\u001b[38;5;124m\"\u001b[39m\u001b[38;5;241m.\u001b[39mformat(\n\u001b[1;32m    236\u001b[0m                 est\u001b[38;5;241m.\u001b[39m\u001b[38;5;18m__class__\u001b[39m\u001b[38;5;241m.\u001b[39m\u001b[38;5;18m__name__\u001b[39m, is_estimator_type\u001b[38;5;241m.\u001b[39m\u001b[38;5;18m__name__\u001b[39m[\u001b[38;5;241m3\u001b[39m:]\n\u001b[1;32m    237\u001b[0m             )\n\u001b[1;32m    238\u001b[0m         )\n\u001b[1;32m    240\u001b[0m \u001b[38;5;28;01mreturn\u001b[39;00m names, estimators\n",
      "\u001b[0;31mValueError\u001b[0m: The estimator IsolationForest should be a classifier."
     ]
    }
   ],
   "source": [
    "import pandas as pd\n",
    "from sklearn.model_selection import train_test_split\n",
    "from sklearn.neighbors import LocalOutlierFactor\n",
    "from sklearn.ensemble import IsolationForest\n",
    "from sklearn.svm import OneClassSVM\n",
    "from sklearn.metrics import classification_report, confusion_matrix\n",
    "from sklearn.preprocessing import StandardScaler, LabelEncoder\n",
    "from imblearn.over_sampling import SMOTE\n",
    "from sklearn.ensemble import VotingClassifier\n",
    "\n",
    "# Load the combined dataset (example with 30% attack data)\n",
    "combined_data = pd.read_csv('/work/festusedward-n/Dataset_TZ_KM/combined_data_30.csv')\n",
    "\n",
    "# Separate features (X) and target (y)\n",
    "X = combined_data.drop(columns=['label', 'id', 'timestamp'], errors='ignore')  # Drop label, id, and timestamp\n",
    "y = combined_data['label']  # Label column (Benign = 0, Attack = 1)\n",
    "\n",
    "# Encode categorical columns using LabelEncoder\n",
    "label_encoder = LabelEncoder()\n",
    "categorical_columns = X.select_dtypes(include=['object']).columns\n",
    "\n",
    "# Encode each categorical column\n",
    "for col in categorical_columns:\n",
    "    X[col] = label_encoder.fit_transform(X[col])\n",
    "\n",
    "# Feature scaling\n",
    "scaler = StandardScaler()\n",
    "X_scaled = scaler.fit_transform(X)\n",
    "\n",
    "# ---------------------- SMOTE for balancing -------------------------\n",
    "smote = SMOTE(sampling_strategy='auto', random_state=42)\n",
    "X_res, y_res = smote.fit_resample(X_scaled, y)\n",
    "\n",
    "# ---------------------- Instantiate models -------------------------\n",
    "# IsolationForest\n",
    "model_if = IsolationForest(n_estimators=100, contamination=0.1, random_state=42)\n",
    "# Fit the model\n",
    "y_pred_if = model_if.fit_predict(X_res)\n",
    "y_pred_if = [1 if label == -1 else 0 for label in y_pred_if]  # Convert to binary labels (1: attack, 0: benign)\n",
    "\n",
    "# One-Class SVM\n",
    "model_svm = OneClassSVM(nu=0.1, kernel='rbf', gamma='scale')\n",
    "model_svm.fit(X_res)\n",
    "y_pred_svm = model_svm.predict(X_scaled)\n",
    "y_pred_svm = [1 if label == -1 else 0 for label in y_pred_svm]  # Convert to binary labels\n",
    "\n",
    "# Local Outlier Factor (LOF)\n",
    "model_lof = LocalOutlierFactor(n_neighbors=20, contamination=0.1)\n",
    "y_pred_lof = model_lof.fit_predict(X_scaled)\n",
    "y_pred_lof = [1 if label == -1 else 0 for label in y_pred_lof]  # Convert to binary labels\n",
    "\n",
    "# ---------------------- Voting Classifier to combine the models -------------------\n",
    "voting_clf = VotingClassifier(estimators=[('if', model_if), ('svm', model_svm), ('lof', model_lof)], voting='hard')\n",
    "voting_clf.fit(X_res, y_res)  # Fit the ensemble model\n",
    "\n",
    "# ---------------------- Evaluate on Test Data ----------------------\n",
    "y_pred_voting = voting_clf.predict(X_scaled)\n",
    "\n",
    "# Print the classification report and confusion matrix\n",
    "print(\"Classification Report (Test Data):\")\n",
    "print(classification_report(y, y_pred_voting))\n",
    "\n",
    "print(\"Confusion Matrix (Test Data):\")\n",
    "print(confusion_matrix(y, y_pred_voting))\n"
   ]
  },
  {
   "cell_type": "code",
   "execution_count": null,
   "id": "053ea496-4f00-4cdb-b0a6-8ffcd8f0334e",
   "metadata": {},
   "outputs": [],
   "source": []
  }
 ],
 "metadata": {
  "kernelspec": {
   "display_name": "Python 3 (ipykernel)",
   "language": "python",
   "name": "python3"
  },
  "language_info": {
   "codemirror_mode": {
    "name": "ipython",
    "version": 3
   },
   "file_extension": ".py",
   "mimetype": "text/x-python",
   "name": "python",
   "nbconvert_exporter": "python",
   "pygments_lexer": "ipython3",
   "version": "3.10.12"
  }
 },
 "nbformat": 4,
 "nbformat_minor": 5
}
